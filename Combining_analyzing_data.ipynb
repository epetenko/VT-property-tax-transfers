{
 "cells": [
  {
   "cell_type": "code",
   "execution_count": 1,
   "metadata": {},
   "outputs": [],
   "source": [
    "import pandas as pd\n",
    "\n",
    "import xmltodict\n",
    "import json"
   ]
  },
  {
   "cell_type": "code",
   "execution_count": 2,
   "metadata": {},
   "outputs": [],
   "source": [
    "with open('PT20200831_20200906.xml') as fd:\n",
    "    test_data = xmltodict.parse(fd.read())"
   ]
  },
  {
   "cell_type": "code",
   "execution_count": 3,
   "metadata": {},
   "outputs": [
    {
     "data": {
      "text/plain": [
       "0      {'index': '1', 'DLN': 'DK 569470848', 'lastNam...\n",
       "1      {'index': '1', 'DLN': 'DK1863151488', 'entityN...\n",
       "2      {'index': '1', 'DLN': '202009021115989005', 'l...\n",
       "3      {'index': '1', 'DLN': 'DK1387114368', 'entityN...\n",
       "4      [{'index': '1', 'DLN': 'DK1523150720', 'lastNa...\n",
       "                             ...                        \n",
       "875    [{'index': '1', 'DLN': 'DK 234712960', 'lastNa...\n",
       "876    [{'index': '1', 'DLN': 'DK1034645376', 'entity...\n",
       "877    {'index': '1', 'DLN': 'DK2045472640', 'lastNam...\n",
       "878    {'index': '1', 'DLN': 'DK1006464896', 'entityN...\n",
       "879    {'index': '1', 'DLN': 'DK 351645568', 'lastNam...\n",
       "Name: buyerList, Length: 880, dtype: object"
      ]
     },
     "execution_count": 3,
     "metadata": {},
     "output_type": "execute_result"
    }
   ],
   "source": [
    "test_main_dict = test_data['PropertyTransferExtract']['List_formData']['formData']\n",
    "\n",
    "test_df = pd.DataFrame(test_main_dict)\n",
    "\n",
    "def get_buyers(row):\n",
    "    buyers_dict = row['buyer']\n",
    "    return buyers_dict\n",
    "\n",
    "test_df['buyerstest'] = test_df.buyerList.map(get_buyers)\n",
    "\n",
    "new_df = test_df.buyerList.map(get_buyers)\n",
    "\n",
    "new_df"
   ]
  },
  {
   "cell_type": "code",
   "execution_count": 4,
   "metadata": {},
   "outputs": [],
   "source": [
    "def this_year(files, year):\n",
    "    container_dict = []\n",
    "    for n in files:\n",
    "        with open(\"PT\" + year + '/' + n) as fd:\n",
    "            doc = xmltodict.parse(fd.read())\n",
    "        saledict = pd.DataFrame(doc['PropertyTransferExtract']['List_formData']['formData'])['formHeader']\n",
    "        this_sales = pd.DataFrame.from_records(saledict)\n",
    "        container_dict.append(this_sales)\n",
    "    return pd.concat(container_dict)"
   ]
  },
  {
   "cell_type": "code",
   "execution_count": 7,
   "metadata": {},
   "outputs": [],
   "source": [
    "files2020 = ['PT20200101_20200131.xml',\n",
    "'PT20200201_20200229.xml','PT20200301_20200331.xml',\n",
    "'PT20200401_20200430.xml',\n",
    "'PT20200501_20200531.xml','PT20200601_20200630.xml','PT20200701_20200731.xml',\n",
    "'PT20200801_20200831.xml','PT20200901_20200930.xml','PT20201001_20201031.xml',\n",
    "            'PT20201101_20201130.xml','PT20201201_20201231.xml']"
   ]
  },
  {
   "cell_type": "code",
   "execution_count": 8,
   "metadata": {},
   "outputs": [],
   "source": [
    "sales2020 = this_year(files2020, '2020')"
   ]
  },
  {
   "cell_type": "code",
   "execution_count": 9,
   "metadata": {},
   "outputs": [
    {
     "data": {
      "text/html": [
       "<div>\n",
       "<style scoped>\n",
       "    .dataframe tbody tr th:only-of-type {\n",
       "        vertical-align: middle;\n",
       "    }\n",
       "\n",
       "    .dataframe tbody tr th {\n",
       "        vertical-align: top;\n",
       "    }\n",
       "\n",
       "    .dataframe thead th {\n",
       "        text-align: right;\n",
       "    }\n",
       "</style>\n",
       "<table border=\"1\" class=\"dataframe\">\n",
       "  <thead>\n",
       "    <tr style=\"text-align: right;\">\n",
       "      <th></th>\n",
       "      <th>receivedDate</th>\n",
       "      <th>postedDate</th>\n",
       "      <th>DLN</th>\n",
       "      <th>totalSellers</th>\n",
       "      <th>totalBuyers</th>\n",
       "      <th>propertyLocationStreet</th>\n",
       "      <th>propertyLocationCity</th>\n",
       "      <th>closingDate</th>\n",
       "      <th>interestPropertyType</th>\n",
       "      <th>specialFactorsDevRights</th>\n",
       "      <th>...</th>\n",
       "      <th>rentedBefore</th>\n",
       "      <th>buildingTypeMobile</th>\n",
       "      <th>buildingTypeCondo</th>\n",
       "      <th>buildingTypeConUnit</th>\n",
       "      <th>financingOwner</th>\n",
       "      <th>buildingTypeSeasonal</th>\n",
       "      <th>tenantPurchase</th>\n",
       "      <th>buildingTypeStore</th>\n",
       "      <th>buildingTypeNewCons</th>\n",
       "      <th>buildingTypeFactory</th>\n",
       "    </tr>\n",
       "  </thead>\n",
       "  <tbody>\n",
       "    <tr>\n",
       "      <th>0</th>\n",
       "      <td>2017-03-24</td>\n",
       "      <td>2020-01-14</td>\n",
       "      <td>201703301107967010</td>\n",
       "      <td>1</td>\n",
       "      <td>1</td>\n",
       "      <td>HAWES PL 1</td>\n",
       "      <td>BARRE</td>\n",
       "      <td>2017-01-18</td>\n",
       "      <td>08</td>\n",
       "      <td>True</td>\n",
       "      <td>...</td>\n",
       "      <td>NaN</td>\n",
       "      <td>NaN</td>\n",
       "      <td>NaN</td>\n",
       "      <td>NaN</td>\n",
       "      <td>NaN</td>\n",
       "      <td>NaN</td>\n",
       "      <td>NaN</td>\n",
       "      <td>NaN</td>\n",
       "      <td>NaN</td>\n",
       "      <td>NaN</td>\n",
       "    </tr>\n",
       "    <tr>\n",
       "      <th>1</th>\n",
       "      <td>2017-09-06</td>\n",
       "      <td>2020-01-17</td>\n",
       "      <td>DK1199601792</td>\n",
       "      <td>1</td>\n",
       "      <td>1</td>\n",
       "      <td>ONE PLACE NOTRE DAME</td>\n",
       "      <td>ST. JOHNSBURY</td>\n",
       "      <td>2017-09-01</td>\n",
       "      <td>01</td>\n",
       "      <td>True</td>\n",
       "      <td>...</td>\n",
       "      <td>NaN</td>\n",
       "      <td>NaN</td>\n",
       "      <td>NaN</td>\n",
       "      <td>NaN</td>\n",
       "      <td>NaN</td>\n",
       "      <td>NaN</td>\n",
       "      <td>NaN</td>\n",
       "      <td>NaN</td>\n",
       "      <td>NaN</td>\n",
       "      <td>NaN</td>\n",
       "    </tr>\n",
       "    <tr>\n",
       "      <th>2</th>\n",
       "      <td>2017-10-30</td>\n",
       "      <td>2020-01-17</td>\n",
       "      <td>DK 236579968</td>\n",
       "      <td>1</td>\n",
       "      <td>1</td>\n",
       "      <td>JUNCTION OF ROUTES 4 AND 100</td>\n",
       "      <td>BRIDGEWATER</td>\n",
       "      <td>2017-10-13</td>\n",
       "      <td>05</td>\n",
       "      <td>True</td>\n",
       "      <td>...</td>\n",
       "      <td>NaN</td>\n",
       "      <td>NaN</td>\n",
       "      <td>NaN</td>\n",
       "      <td>NaN</td>\n",
       "      <td>NaN</td>\n",
       "      <td>NaN</td>\n",
       "      <td>NaN</td>\n",
       "      <td>NaN</td>\n",
       "      <td>NaN</td>\n",
       "      <td>NaN</td>\n",
       "    </tr>\n",
       "    <tr>\n",
       "      <th>3</th>\n",
       "      <td>2020-01-02</td>\n",
       "      <td>2020-01-02</td>\n",
       "      <td>DK1741124992</td>\n",
       "      <td>1</td>\n",
       "      <td>1</td>\n",
       "      <td>8 TIMBERVIEW ROAD</td>\n",
       "      <td>Dover</td>\n",
       "      <td>2017-11-08</td>\n",
       "      <td>01</td>\n",
       "      <td>NaN</td>\n",
       "      <td>...</td>\n",
       "      <td>NaN</td>\n",
       "      <td>NaN</td>\n",
       "      <td>NaN</td>\n",
       "      <td>NaN</td>\n",
       "      <td>NaN</td>\n",
       "      <td>NaN</td>\n",
       "      <td>NaN</td>\n",
       "      <td>NaN</td>\n",
       "      <td>NaN</td>\n",
       "      <td>NaN</td>\n",
       "    </tr>\n",
       "    <tr>\n",
       "      <th>4</th>\n",
       "      <td>2019-07-16</td>\n",
       "      <td>2020-01-14</td>\n",
       "      <td>DK1507814784</td>\n",
       "      <td>1</td>\n",
       "      <td>2</td>\n",
       "      <td>829 SOUTH STREET</td>\n",
       "      <td>New Haven</td>\n",
       "      <td>2019-07-03</td>\n",
       "      <td>01</td>\n",
       "      <td>True</td>\n",
       "      <td>...</td>\n",
       "      <td>NaN</td>\n",
       "      <td>NaN</td>\n",
       "      <td>NaN</td>\n",
       "      <td>NaN</td>\n",
       "      <td>NaN</td>\n",
       "      <td>NaN</td>\n",
       "      <td>NaN</td>\n",
       "      <td>NaN</td>\n",
       "      <td>NaN</td>\n",
       "      <td>NaN</td>\n",
       "    </tr>\n",
       "  </tbody>\n",
       "</table>\n",
       "<p>5 rows × 58 columns</p>\n",
       "</div>"
      ],
      "text/plain": [
       "  receivedDate  postedDate                 DLN totalSellers totalBuyers  \\\n",
       "0   2017-03-24  2020-01-14  201703301107967010            1           1   \n",
       "1   2017-09-06  2020-01-17        DK1199601792            1           1   \n",
       "2   2017-10-30  2020-01-17        DK 236579968            1           1   \n",
       "3   2020-01-02  2020-01-02        DK1741124992            1           1   \n",
       "4   2019-07-16  2020-01-14        DK1507814784            1           2   \n",
       "\n",
       "         propertyLocationStreet propertyLocationCity closingDate  \\\n",
       "0                    HAWES PL 1                BARRE  2017-01-18   \n",
       "1          ONE PLACE NOTRE DAME        ST. JOHNSBURY  2017-09-01   \n",
       "2  JUNCTION OF ROUTES 4 AND 100          BRIDGEWATER  2017-10-13   \n",
       "3             8 TIMBERVIEW ROAD                Dover  2017-11-08   \n",
       "4              829 SOUTH STREET            New Haven  2019-07-03   \n",
       "\n",
       "  interestPropertyType specialFactorsDevRights  ... rentedBefore  \\\n",
       "0                   08                    True  ...          NaN   \n",
       "1                   01                    True  ...          NaN   \n",
       "2                   05                    True  ...          NaN   \n",
       "3                   01                     NaN  ...          NaN   \n",
       "4                   01                    True  ...          NaN   \n",
       "\n",
       "  buildingTypeMobile buildingTypeCondo buildingTypeConUnit financingOwner  \\\n",
       "0                NaN               NaN                 NaN            NaN   \n",
       "1                NaN               NaN                 NaN            NaN   \n",
       "2                NaN               NaN                 NaN            NaN   \n",
       "3                NaN               NaN                 NaN            NaN   \n",
       "4                NaN               NaN                 NaN            NaN   \n",
       "\n",
       "  buildingTypeSeasonal tenantPurchase buildingTypeStore buildingTypeNewCons  \\\n",
       "0                  NaN            NaN               NaN                 NaN   \n",
       "1                  NaN            NaN               NaN                 NaN   \n",
       "2                  NaN            NaN               NaN                 NaN   \n",
       "3                  NaN            NaN               NaN                 NaN   \n",
       "4                  NaN            NaN               NaN                 NaN   \n",
       "\n",
       "  buildingTypeFactory  \n",
       "0                 NaN  \n",
       "1                 NaN  \n",
       "2                 NaN  \n",
       "3                 NaN  \n",
       "4                 NaN  \n",
       "\n",
       "[5 rows x 58 columns]"
      ]
     },
     "execution_count": 9,
     "metadata": {},
     "output_type": "execute_result"
    }
   ],
   "source": [
    "sales2020.head()"
   ]
  },
  {
   "cell_type": "code",
   "execution_count": 10,
   "metadata": {},
   "outputs": [],
   "source": [
    "files2019 = ['PT20190101_20190131.xml','PT20190201_20190228.xml','PT20190301_20190331.xml',\n",
    "'PT20190401_20190430.xml',\n",
    "'PT20190501_20190531.xml','PT20190601_20190630.xml',\n",
    "'PT20190701_20190731.xml',\n",
    "'PT20190801_20190831.xml','PT20190901_20190930.xml',\n",
    "'PT20191001_20191031.xml',\n",
    "'PT20191101_20191130.xml','PT20191201_20191231.xml',\n",
    "]"
   ]
  },
  {
   "cell_type": "code",
   "execution_count": 11,
   "metadata": {},
   "outputs": [],
   "source": [
    "sales2019 = this_year(files2019, '2019')"
   ]
  },
  {
   "cell_type": "code",
   "execution_count": 12,
   "metadata": {},
   "outputs": [],
   "source": [
    "files2021 = ['PT20210101_20210131.xml',\n",
    "            'PT20210201_20210228.xml',\n",
    "            'PT20210301_20210307.xml',\n",
    "            'PT20210308_20210314.xml']"
   ]
  },
  {
   "cell_type": "code",
   "execution_count": 14,
   "metadata": {},
   "outputs": [],
   "source": [
    "sales2021 = this_year(files2021, '2020')"
   ]
  },
  {
   "cell_type": "code",
   "execution_count": 16,
   "metadata": {},
   "outputs": [],
   "source": [
    "files2018 = [\n",
    "'PT20180101_20180131.xml','PT20180201_20180228.xml',\n",
    "'PT20180301_20180331.xml','PT20180401_20180430.xml',\n",
    "'PT20180501_20180531.xml',\n",
    "'PT20180601_20180630.xml','PT20180701_20180731.xml',\n",
    "'PT20180801_20180831.xml',\n",
    "'PT20180901_20180930.xml',\n",
    "'PT20181001_20181031.xml','PT20181101_20181130.xml',\n",
    "'PT20181201_20181231.xml']"
   ]
  },
  {
   "cell_type": "code",
   "execution_count": 17,
   "metadata": {},
   "outputs": [],
   "source": [
    "sales2018 = this_year(files2018, '2018')"
   ]
  },
  {
   "cell_type": "code",
   "execution_count": 18,
   "metadata": {},
   "outputs": [],
   "source": [
    "sales2020.to_csv('Sales_data/2020.csv', index=False)\n",
    "sales2019.to_csv('Sales_data/2019.csv', index=False)\n",
    "sales2018.to_csv('Sales_data/2018.csv', index=False)\n",
    "sales2021.to_csv('Sales_data/2021.csv', index=False)"
   ]
  },
  {
   "cell_type": "code",
   "execution_count": 19,
   "metadata": {},
   "outputs": [
    {
     "data": {
      "text/plain": [
       "(31426, 58)"
      ]
     },
     "execution_count": 19,
     "metadata": {},
     "output_type": "execute_result"
    }
   ],
   "source": [
    "sales2020.shape"
   ]
  },
  {
   "cell_type": "code",
   "execution_count": 20,
   "metadata": {},
   "outputs": [
    {
     "data": {
      "text/plain": [
       "(31175, 58)"
      ]
     },
     "execution_count": 20,
     "metadata": {},
     "output_type": "execute_result"
    }
   ],
   "source": [
    "sales2019.shape"
   ]
  },
  {
   "cell_type": "code",
   "execution_count": 21,
   "metadata": {},
   "outputs": [
    {
     "data": {
      "text/plain": [
       "(35944, 57)"
      ]
     },
     "execution_count": 21,
     "metadata": {},
     "output_type": "execute_result"
    }
   ],
   "source": [
    "sales2018.shape"
   ]
  },
  {
   "cell_type": "code",
   "execution_count": 22,
   "metadata": {},
   "outputs": [],
   "source": [
    "files2016 = ['PT20160101_20160131.xml',\n",
    "'PT20160201_20160229.xml',\n",
    "'PT20160301_20160331.xml',\n",
    "'PT20160401_20160430.xml',\n",
    "'PT20160501_20160531.xml',\n",
    "'PT20160601_20160630.xml',\n",
    "'PT20160701_20160731.xml',\n",
    "'PT20160801_20160831.xml',\n",
    "'PT20160901_20160930.xml',\n",
    "'PT20161001_20161031.xml',\n",
    "'PT20161101_20161130.xml',\n",
    "'PT20161128_20161204.xml',\n",
    "'PT20161206_20161231.xml']"
   ]
  },
  {
   "cell_type": "code",
   "execution_count": 23,
   "metadata": {},
   "outputs": [],
   "source": [
    "sales2016 = this_year(files2016, '2016')\n",
    "sales2016.to_csv('Sales_data/2016.csv', index=False)"
   ]
  },
  {
   "cell_type": "code",
   "execution_count": 24,
   "metadata": {},
   "outputs": [],
   "source": [
    "files_2017 = ['PT20170101_20170131.xml',\n",
    "'PT20170201_20170228.xml',\n",
    "'PT20170301_20170331.xml',\n",
    "'PT20170401_20170430.xml',\n",
    "'PT20170501_20170531.xml',\n",
    "'PT20170601_20170630.xml',\n",
    "'PT20170701_20170731.xml',\n",
    "'PT20170801_20170831.xml',\n",
    "'PT20170901_20170930.xml',\n",
    "'PT20171001_20171031.xml',\n",
    "'PT20171101_20171130.xml',\n",
    "'PT20171201_20171231.xml']"
   ]
  },
  {
   "cell_type": "code",
   "execution_count": 25,
   "metadata": {},
   "outputs": [],
   "source": [
    "sales2017 = this_year(files_2017, '2017')\n",
    "sales2017.to_csv('Sales_data/2017.csv', index=False)"
   ]
  },
  {
   "cell_type": "code",
   "execution_count": 26,
   "metadata": {},
   "outputs": [
    {
     "data": {
      "text/plain": [
       "(28900, 57)"
      ]
     },
     "execution_count": 26,
     "metadata": {},
     "output_type": "execute_result"
    }
   ],
   "source": [
    "sales2017.shape"
   ]
  }
 ],
 "metadata": {
  "kernelspec": {
   "display_name": "Python 3",
   "language": "python",
   "name": "python3"
  },
  "language_info": {
   "codemirror_mode": {
    "name": "ipython",
    "version": 3
   },
   "file_extension": ".py",
   "mimetype": "text/x-python",
   "name": "python",
   "nbconvert_exporter": "python",
   "pygments_lexer": "ipython3",
   "version": "3.8.5"
  }
 },
 "nbformat": 4,
 "nbformat_minor": 4
}
