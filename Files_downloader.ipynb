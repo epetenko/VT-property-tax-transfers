{
 "cells": [
  {
   "cell_type": "code",
   "execution_count": 11,
   "metadata": {},
   "outputs": [],
   "source": [
    "#!/usr/bin/python3\n",
    "# '''Load the ftplib package '''\n",
    "import ftplib\n",
    " \n",
    "# '''Connect to FTP site'''\n",
    "ftp = ftplib.FTP('ftp.act60.tax.state.vt.us')\n",
    "\n"
   ]
  },
  {
   "cell_type": "code",
   "execution_count": 12,
   "metadata": {},
   "outputs": [],
   "source": [
    "import time"
   ]
  },
  {
   "cell_type": "code",
   "execution_count": 13,
   "metadata": {},
   "outputs": [
    {
     "data": {
      "text/plain": [
       "'230 Login successful.'"
      ]
     },
     "execution_count": 13,
     "metadata": {},
     "output_type": "execute_result"
    }
   ],
   "source": [
    "ftp.login()"
   ]
  },
  {
   "cell_type": "code",
   "execution_count": 14,
   "metadata": {},
   "outputs": [
    {
     "data": {
      "text/plain": [
       "'250 Directory successfully changed.'"
      ]
     },
     "execution_count": 14,
     "metadata": {},
     "output_type": "execute_result"
    }
   ],
   "source": [
    "ftp.cwd('property_transfer_files')"
   ]
  },
  {
   "cell_type": "code",
   "execution_count": 4,
   "metadata": {},
   "outputs": [],
   "source": [
    "files_dict = ['PT20190101_20190131.xml','PT20190107_20190113.xml','PT20190114_20190120.xml','PT20190121_20190127.xml',\n",
    "'PT20190128_20190203.xml','PT20190201_20190228.xml','PT20190204_20190210.xml','PT20190211_20190217.xml',\n",
    "'PT20190218_20190224.xml','PT20190225_20190303.xml','PT20190301_20190331.xml','PT20190304_20190310.xml',\n",
    "'PT20190311_20190317.xml','PT20190318_20190324.xml','PT20190325_20190331.xml','PT20190401_20190407.xml',\n",
    "'PT20190401_20190430.xml','PT20190408_20190414.xml','PT20190415_20190421.xml',\n",
    "'PT20190422_20190428.xml','PT20190429_20190505.xml',\n",
    "'PT20190501_20190531.xml','PT20190506_20190512.xml','PT20190513_20190519.xml','PT20190520_20190526.xml',\n",
    "'PT20190527_20190602.xml','PT20190601_20190630.xml',\n",
    "'PT20190603_20190609.xml','PT20190610_20190616.xml','PT20190617_20190623.xml','PT20190624_20190630.xml',\n",
    "'PT20190701_20190707.xml','PT20190701_20190731.xml',\n",
    "'PT20190708_20190714.xml','PT20190715_20190721.xml','PT20190722_20190728.xml','PT20190729_20190804.xml',\n",
    "'PT20190801_20190831.xml','PT20190805_20190811.xml',\n",
    "'PT20190812_20190818.xml','PT20190819_20190825.xml','PT20190826_20190901.xml','PT20190901_20190930.xml',\n",
    "'PT20190902_20190908.xml','PT20190909_20190915.xml',\n",
    "'PT20190916_20190922.xml','PT20190923_20190929.xml','PT20190930_20191006.xml','PT20191001_20191031.xml',\n",
    "'PT20191007_20191013.xml','PT20191014_20191020.xml',\n",
    "'PT20191021_20191027.xml','PT20191028_20191103.xml',\n",
    "'PT20191101_20191130.xml','PT20191104_20191110.xml','PT20191111_20191117.xml','PT20191118_20191124.xml',\n",
    "'PT20191125_20191201.xml','PT20191201_20191231.xml',\n",
    "'PT20191202_20191208.xml','PT20191209_20191215.xml','PT20191216_20191222.xml','PT20191223_20191229.xml',\n",
    "'PT20191230_20200105.xml','PT20200101_20200131.xml',\n",
    "'PT20200106_20200112.xml','PT20200113_20200119.xml','PT20200120_20200126.xml','PT20200127_20200202.xml',\n",
    "'PT20200201_20200229.xml','PT20200203_20200209.xml',\n",
    "'PT20200210_20200216.xml','PT20200217_20200223.xml','PT20200224_20200301.xml','PT20200301_20200331.xml',\n",
    "'PT20200302_20200308.xml','PT20200309_20200315.xml',\n",
    "'PT20200316_20200322.xml','PT20200323_20200329.xml',\n",
    "'PT20200330_20200405.xml','PT20200401_20200430.xml','PT20200406_20200412.xml','PT20200413_20200419.xml',\n",
    "'PT20200420_20200426.xml','PT20200427_20200503.xml',\n",
    "'PT20200501_20200531.xml','PT20200504_20200510.xml','PT20200511_20200517.xml','PT20200518_20200524.xml',\n",
    "'PT20200525_20200531.xml','PT20200601_20200607.xml','PT20200601_20200630.xml','PT20200608_20200614.xml',\n",
    "'PT20200615_20200621.xml','PT20200622_20200628.xml','PT20200629_20200705.xml','PT20200701_20200731.xml',\n",
    "'PT20200706_20200712.xml','PT20200713_20200719.xml','PT20200720_20200726.xml','PT20200727_20200802.xml',\n",
    "'PT20200801_20200831.xml','PT20200803_20200809.xml','PT20200810_20200816.xml','PT20200817_20200823.xml',\n",
    "'PT20200824_20200830.xml','PT20200831_20200906.xml']"
   ]
  },
  {
   "cell_type": "code",
   "execution_count": 8,
   "metadata": {},
   "outputs": [
    {
     "data": {
      "text/plain": [
       "'221 Goodbye.'"
      ]
     },
     "execution_count": 8,
     "metadata": {},
     "output_type": "execute_result"
    }
   ],
   "source": [
    "for filename in files_dict:\n",
    "    ftp.retrbinary(\"RETR \" + filename, open(filename, 'wb').write)\n",
    "    time.sleep(10)\n",
    "\n",
    "ftp.quit()"
   ]
  },
  {
   "cell_type": "code",
   "execution_count": 9,
   "metadata": {},
   "outputs": [],
   "source": [
    "files_2017 = ['PT20170101_20170131.xml',\n",
    "'PT20170102_20170108.xml',\n",
    "'PT20170109_20170115.xml',\n",
    "'PT20170116_20170122.xml',\n",
    "'PT20170123_20170129.xml',\n",
    "'PT20170130_20170205.xml',\n",
    "'PT20170201_20170228.xml',\n",
    "'PT20170206_20170212.xml',\n",
    "'PT20170213_20170219.xml',\n",
    "'PT20170220_20170226.xml',\n",
    "'PT20170227_20170305.xml',\n",
    "'PT20170301_20170331.xml',\n",
    "'PT20170306_20170312.xml',\n",
    "'PT20170313_20170319.xml',\n",
    "'PT20170320_20170326.xml',\n",
    "'PT20170327_20170402.xml',\n",
    "'PT20170401_20170430.xml',\n",
    "'PT20170403_20170409.xml',\n",
    "'PT20170410_20170416.xml',\n",
    "'PT20170417_20170423.xml',\n",
    "'PT20170424_20170430.xml',\n",
    "'PT20170501_20170507.xml',\n",
    "'PT20170501_20170531.xml',\n",
    "'PT20170508_20170514.xml',\n",
    "'PT20170515_20170521.xml',\n",
    "'PT20170522_20170528.xml',\n",
    "'PT20170529_20170604.xml',\n",
    "'PT20170601_20170630.xml',\n",
    "'PT20170605_20170611.xml',\n",
    "'PT20170612_20170618.xml',\n",
    "'PT20170619_20170625.xml',\n",
    "'PT20170626_20170702.xml',\n",
    "'PT20170701_20170731.xml',\n",
    "'PT20170703_20170709.xml',\n",
    "'PT20170710_20170716.xml',\n",
    "'PT20170717_20170723.xml',\n",
    "'PT20170724_20170730.xml',\n",
    "'PT20170731_20170806.xml',\n",
    "'PT20170801_20170831.xml',\n",
    "'PT20170807_20170813.xml',\n",
    "'PT20170814_20170820.xml',\n",
    "'PT20170821_20170827.xml',\n",
    "'PT20170828_20170903.xml',\n",
    "'PT20170901_20170930.xml',\n",
    "'PT20170904_20170910.xml',\n",
    "'PT20170911_20170917.xml',\n",
    "'PT20170918_20170924.xml',\n",
    "'PT20170925_20171001.xml',\n",
    "'PT20171001_20171031.xml',\n",
    "'PT20171002_20171008.xml',\n",
    "'PT20171009_20171015.xml',\n",
    "'PT20171016_20171022.xml',\n",
    "'PT20171023_20171029.xml',\n",
    "'PT20171030_20171105.xml',\n",
    "'PT20171101_20171130.xml',\n",
    "'PT20171106_20171112.xml',\n",
    "'PT20171113_20171119.xml',\n",
    "'PT20171120_20171126.xml',\n",
    "'PT20171127_20171203.xml',\n",
    "'PT20171201_20171231.xml',\n",
    "'PT20171204_20171210.xml',\n",
    "'PT20171211_20171217.xml',\n",
    "'PT20171218_20171224.xml',\n",
    "'PT20171225_20171231.xml',]"
   ]
  },
  {
   "cell_type": "code",
   "execution_count": 16,
   "metadata": {},
   "outputs": [
    {
     "data": {
      "text/plain": [
       "'250 Directory successfully changed.'"
      ]
     },
     "execution_count": 16,
     "metadata": {},
     "output_type": "execute_result"
    }
   ],
   "source": [
    "ftp.cwd('PT2017')"
   ]
  },
  {
   "cell_type": "code",
   "execution_count": 17,
   "metadata": {},
   "outputs": [
    {
     "data": {
      "text/plain": [
       "'221 Goodbye.'"
      ]
     },
     "execution_count": 17,
     "metadata": {},
     "output_type": "execute_result"
    }
   ],
   "source": [
    "for filename in files_2017:\n",
    "    ftp.retrbinary(\"RETR \" + filename, open(filename, 'wb').write)\n",
    "    time.sleep(10)\n",
    "\n",
    "ftp.quit()"
   ]
  }
 ],
 "metadata": {
  "kernelspec": {
   "display_name": "Python 3",
   "language": "python",
   "name": "python3"
  },
  "language_info": {
   "codemirror_mode": {
    "name": "ipython",
    "version": 3
   },
   "file_extension": ".py",
   "mimetype": "text/x-python",
   "name": "python",
   "nbconvert_exporter": "python",
   "pygments_lexer": "ipython3",
   "version": "3.8.5"
  }
 },
 "nbformat": 4,
 "nbformat_minor": 4
}
